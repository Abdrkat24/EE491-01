{
 "cells": [
  {
   "cell_type": "code",
   "execution_count": 1,
   "id": "6a9df0c4",
   "metadata": {},
   "outputs": [],
   "source": [
    "import scipy.io\n",
    "import numpy as np\n",
    "import random\n",
    "import keras"
   ]
  },
  {
   "cell_type": "code",
   "execution_count": 2,
   "id": "d6446670",
   "metadata": {},
   "outputs": [],
   "source": [
    "#Just to do reshape in 3 dimension without corrupting the data\n",
    "def reshape(array, size = (100000, 2, 256)):\n",
    "    new = np.zeros(size)\n",
    "    for i in range(array.shape[2]):\n",
    "        example = array[:, :, i]\n",
    "        new[i, 0, :] = example[:, 0]\n",
    "        new[i, 1, :] = example[:, 1]\n",
    "    return new"
   ]
  },
  {
   "cell_type": "code",
   "execution_count": 3,
   "id": "dbaa2c95",
   "metadata": {},
   "outputs": [],
   "source": [
    "mat = scipy.io.loadmat(\"Data1.mat\")\n",
    "new_array = mat[\"Dataset\"]\n",
    "new_array = np.array(new_array)\n",
    "raw_data = new_array\n",
    "# raw_data"
   ]
  },
  {
   "cell_type": "code",
   "execution_count": 4,
   "id": "66d0f951",
   "metadata": {},
   "outputs": [
    {
     "data": {
      "text/plain": [
       "array([[1., 0., 0., 0., 0.],\n",
       "       [1., 0., 0., 0., 0.],\n",
       "       [1., 0., 0., 0., 0.],\n",
       "       ...,\n",
       "       [0., 0., 0., 0., 1.],\n",
       "       [0., 0., 0., 0., 1.],\n",
       "       [0., 0., 0., 0., 1.]])"
      ]
     },
     "execution_count": 4,
     "metadata": {},
     "output_type": "execute_result"
    }
   ],
   "source": [
    "#Creating the labels for the data\n",
    "mods = [\"BPSK\", \"QPSK\", \"16QAM\", \"64QAM\", \"256QAM\"]\n",
    "n_examples = 20000\n",
    "y1 = [\"BPSK\"]*n_examples\n",
    "y2 = [\"QPSK\"]*n_examples\n",
    "y3 = [\"16QAM\"]*n_examples\n",
    "y4 = [\"64QAM\"]*n_examples\n",
    "y5 = [\"256QAM\"]*n_examples\n",
    "\n",
    "y_raw = y1+y2+y3+y4+y5\n",
    "y_raw = np.array(y_raw)\n",
    "\n",
    "y = np.zeros((len(y_raw), len(mods)))\n",
    "for i in range(len(y_raw)):\n",
    "    if y_raw[i] == \"BPSK\":\n",
    "        y[i, :] = np.array([1, 0, 0, 0, 0])\n",
    "    elif y_raw[i] == \"QPSK\":\n",
    "        y[i, :] = np.array([0, 1, 0, 0, 0])\n",
    "    elif y_raw[i] == \"16QAM\":\n",
    "        y[i, :] = np.array([0, 0, 1, 0, 0])\n",
    "    elif y_raw[i] == \"64QAM\":\n",
    "        y[i, :] = np.array([0, 0, 0, 1, 0])\n",
    "    elif y_raw[i] == \"256QAM\":\n",
    "        y[i, :] = np.array([0, 0, 0, 0, 1])\n",
    "        \n",
    "y"
   ]
  },
  {
   "cell_type": "code",
   "execution_count": 5,
   "id": "10298dee",
   "metadata": {},
   "outputs": [
    {
     "name": "stdout",
     "output_type": "stream",
     "text": [
      "[1. 0. 0. 0. 0.]\n"
     ]
    },
    {
     "data": {
      "image/png": "[encoded data removed]",
      "text/plain": [
       "<Figure size 432x288 with 2 Axes>"
      ]
     },
     "metadata": {
      "needs_background": "light"
     },
     "output_type": "display_data"
    }
   ],
   "source": [
    "#Reshaping the data to be similar to literature\n",
    "X = reshape(raw_data, (len(mods)*n_examples, 2, 256))\n",
    "\n",
    "#Just to plot before and after the reshape to ensure the data is not corrupted\n",
    "a = 4000\n",
    "signal = X[a, :, :]\n",
    "\n",
    "in_phase = signal[0, :]\n",
    "quadrature = signal[1, :]\n",
    "\n",
    "import matplotlib.pyplot as plt\n",
    "fig = plt.figure()\n",
    "ax = fig.add_subplot(211)\n",
    "\n",
    "ax.set_xlabel(\"in_phase\")\n",
    "ax.set_ylabel(\"quadrature\")\n",
    "    \n",
    "ax.scatter(in_phase, quadrature)\n",
    "\n",
    "signal = raw_data[:, :, a]\n",
    "\n",
    "in_phase = signal[:, 0]\n",
    "quadrature = signal[:, 1]\n",
    "\n",
    "ax1 = fig.add_subplot(212)\n",
    "\n",
    "ax1.set_xlabel(\"in_phase\")\n",
    "ax1.set_ylabel(\"quadrature\")\n",
    "    \n",
    "ax1.scatter(in_phase, quadrature)\n",
    "\n",
    "#Print the label\n",
    "print(y[a])"
   ]
  },
  {
   "cell_type": "code",
   "execution_count": 6,
   "id": "8f6dab77",
   "metadata": {},
   "outputs": [],
   "source": [
    "np.random.seed(2023)\n",
    "random.seed(2023)\n",
    "train_split = 0.7\n",
    "valid_split = 0.15\n",
    "test_split = 0.15\n",
    "\n",
    "n_examples = X.shape[0] #total number of examples\n",
    "n_train = int(n_examples * train_split) #number of examples for training\n",
    "n_valid = int(n_examples * valid_split) #number of examples for validation\n",
    "n_test = int(n_examples * test_split) #number of examples for testing\n",
    "    \n",
    "# Get indexes of train data\n",
    "train_idx = np.random.choice(range(0, n_examples), size=n_train, replace=False)\n",
    "\n",
    "# Left indexes for valid and test sets\n",
    "left_idx= list(set(range(0, n_examples)) - set(train_idx))\n",
    "    \n",
    "# Get indexes for the left indexes of the X data\n",
    "val = np.random.choice(range(0, (n_valid+n_test)), size=(n_valid), replace=False)\n",
    "test = list(set(range(0, len(left_idx))) - set(val))\n",
    "\n",
    "# Assign indeces for validation to left indexes\n",
    "valid_idx = []\n",
    "for i in val:\n",
    "    val_idx = left_idx[i]\n",
    "    valid_idx.append(val_idx)\n",
    "    \n",
    "# Get the test set as the rest indexes\n",
    "test_idx = []\n",
    "for i in test:\n",
    "    tst_idx = left_idx[i]\n",
    "    test_idx.append(tst_idx)\n",
    "    \n",
    "# Shuffle the valid_idx and test_idx\n",
    "random.shuffle(valid_idx)\n",
    "random.shuffle(test_idx)\n",
    "\n",
    "\n",
    "# Assing the indexes to the X and Y data to create train and test sets\n",
    "X_train = X[train_idx]\n",
    "X_val = X[valid_idx]\n",
    "X_test = X[test_idx]   \n",
    "y_train = y[train_idx]\n",
    "y_val = y[valid_idx]\n",
    "y_test = y[test_idx]  "
   ]
  },
  {
   "cell_type": "code",
   "execution_count": 7,
   "id": "1e1264b0",
   "metadata": {},
   "outputs": [
    {
     "name": "stdout",
     "output_type": "stream",
     "text": [
      "(70000, 2, 256) (15000, 2, 256) (15000, 2, 256)\n",
      "(70000, 5) (15000, 5) (15000, 5)\n"
     ]
    }
   ],
   "source": [
    "print(X_train.shape, X_val.shape, X_test.shape)\n",
    "print(y_train.shape, y_val.shape, y_test.shape)"
   ]
  },
  {
   "cell_type": "code",
   "execution_count": 17,
   "id": "7cf84dce",
   "metadata": {},
   "outputs": [
    {
     "name": "stderr",
     "output_type": "stream",
     "text": [
      "C:\\Users\\abdrk\\AppData\\Local\\Temp\\ipykernel_24500\\1921242298.py:14: UserWarning: Matplotlib is currently using module://matplotlib_inline.backend_inline, which is a non-GUI backend, so cannot show the figure.\n",
      "  fig.show()\n"
     ]
    },
    {
     "data": {
      "text/plain": [
       "array([0., 0., 0., 0., 1.])"
      ]
     },
     "execution_count": 17,
     "metadata": {},
     "output_type": "execute_result"
    },
    {
     "data": {
      "image/png": "[encoded data removed]",
      "text/plain": [
       "<Figure size 432x288 with 1 Axes>"
      ]
     },
     "metadata": {
      "needs_background": "light"
     },
     "output_type": "display_data"
    }
   ],
   "source": [
    "#To visualize some data\n",
    "import matplotlib.pyplot as plt\n",
    "n = 550\n",
    "signal = X_train[n]\n",
    "label = y_train[n]\n",
    "in_phase = signal[0]\n",
    "quadrature = signal[1]\n",
    "\n",
    "fig = plt.figure()\n",
    "ax = fig.add_subplot(111)\n",
    "ax.scatter(in_phase, quadrature)\n",
    "# plt.savefig(\"16PSK\", facecolor='w', bbox_inches=\"tight\",\n",
    "#             pad_inches=0.3, transparent=True)\n",
    "fig.show()\n",
    "label"
   ]
  },
  {
   "cell_type": "code",
   "execution_count": 30,
   "id": "23ae47e4",
   "metadata": {},
   "outputs": [
    {
     "data": {
      "image/png": "[encoded data removed]",
      "text/plain": [
       "<Figure size 720x720 with 4 Axes>"
      ]
     },
     "metadata": {
      "needs_background": "light"
     },
     "output_type": "display_data"
    }
   ],
   "source": [
    "import matplotlib.pyplot as plt\n",
    "fig = plt.figure(figsize=(10, 10))\n",
    "ax = fig.add_subplot(221)\n",
    "signal = X_train[500]\n",
    "label = y_train[500]\n",
    "in_phase = signal[0]\n",
    "quadrature = signal[1]\n",
    "ax.set_ylabel(\"quadrature\")\n",
    "ax.set_title(\"BPSK\")\n",
    "ax.scatter(in_phase, quadrature)\n",
    "\n",
    "ax1 = fig.add_subplot(222)\n",
    "signal = X_train[590]\n",
    "label = y_train[590]\n",
    "in_phase = signal[0]\n",
    "quadrature = signal[1]\n",
    "ax1.set_title(\"QPSK\")\n",
    "ax1.scatter(in_phase, quadrature)\n",
    "\n",
    "ax2 = fig.add_subplot(223)\n",
    "signal = X_train[570]\n",
    "label = y_train[570]\n",
    "in_phase = signal[0]\n",
    "quadrature = signal[1]\n",
    "ax2.set_xlabel(\"in_phase\")\n",
    "ax2.set_ylabel(\"quadrature\")\n",
    "ax2.set_title(\"16QAM\")\n",
    "ax2.scatter(in_phase, quadrature)\n",
    "\n",
    "ax3 = fig.add_subplot(224)\n",
    "signal = X_train[550]\n",
    "label = y_train[550]\n",
    "in_phase = signal[0]\n",
    "quadrature = signal[1]\n",
    "ax3.set_xlabel(\"in_phase\")\n",
    "ax3.set_title(\"256QAM\")\n",
    "ax3.scatter(in_phase, quadrature)\n",
    "plt.savefig(\"Examples\", facecolor='w', bbox_inches=\"tight\",\n",
    "             pad_inches=0.3, transparent=True)"
   ]
  },
  {
   "cell_type": "code",
   "execution_count": 31,
   "id": "91bedf41",
   "metadata": {},
   "outputs": [],
   "source": [
    "import os,random\n",
    "os.environ[\"KERAS_BACKEND\"] = \"tensorflow\"\n",
    "import math\n",
    "import numpy as np\n",
    "import matplotlib.pyplot as plt\n",
    "import random, sys, keras\n",
    "from keras.utils import np_utils\n",
    "import keras.models as models\n",
    "from keras.layers.core import Reshape,Dense,Dropout,Activation,Flatten\n",
    "from keras.layers.convolutional import Conv2D, MaxPooling2D, ZeroPadding2D\n",
    "from keras.regularizers import *\n"
   ]
  },
  {
   "cell_type": "code",
   "execution_count": 32,
   "id": "92e39a11",
   "metadata": {},
   "outputs": [
    {
     "name": "stdout",
     "output_type": "stream",
     "text": [
      "Model: \"sequential\"\n",
      "_________________________________________________________________\n",
      " Layer (type)                Output Shape              Param #   \n",
      "=================================================================\n",
      " reshape (Reshape)           (None, 2, 256, 1)         0         \n",
      "                                                                 \n",
      " zero_padding2d (ZeroPadding  (None, 2, 260, 1)        0         \n",
      " 2D)                                                             \n",
      "                                                                 \n",
      " conv2d (Conv2D)             (None, 2, 257, 2)         10        \n",
      "                                                                 \n",
      " dropout (Dropout)           (None, 2, 257, 2)         0         \n",
      "                                                                 \n",
      " zero_padding2d_1 (ZeroPaddi  (None, 2, 261, 2)        0         \n",
      " ng2D)                                                           \n",
      "                                                                 \n",
      " conv2d_1 (Conv2D)           (None, 1, 258, 4)         68        \n",
      "                                                                 \n",
      " dropout_1 (Dropout)         (None, 1, 258, 4)         0         \n",
      "                                                                 \n",
      " flatten (Flatten)           (None, 1032)              0         \n",
      "                                                                 \n",
      " dense (Dense)               (None, 16)                16528     \n",
      "                                                                 \n",
      " dropout_2 (Dropout)         (None, 16)                0         \n",
      "                                                                 \n",
      " dense_1 (Dense)             (None, 5)                 85        \n",
      "                                                                 \n",
      " reshape_1 (Reshape)         (None, 5)                 0         \n",
      "                                                                 \n",
      "=================================================================\n",
      "Total params: 16,691\n",
      "Trainable params: 16,691\n",
      "Non-trainable params: 0\n",
      "_________________________________________________________________\n"
     ]
    }
   ],
   "source": [
    "in_shp = list(X_train.shape[1:])\n",
    "classes = mods\n",
    "\n",
    "nb_epoch = 100     # number of epochs to train on\n",
    "batch_size = 32  # training batch size\n",
    "dr = 0.5 # dropout rate (%)\n",
    "\n",
    "\n",
    "model_CNN = models.Sequential()\n",
    "model_CNN.add(Reshape(in_shp+[1], input_shape=in_shp))\n",
    "model_CNN.add(ZeroPadding2D((0,2)))\n",
    "model_CNN.add(Conv2D(2, (1,4), activation=\"relu\"))\n",
    "model_CNN.add(Dropout(dr))\n",
    "model_CNN.add(ZeroPadding2D((0,2)))\n",
    "model_CNN.add(Conv2D(4, (2,4), activation=\"relu\"))\n",
    "model_CNN.add(Dropout(dr))\n",
    "model_CNN.add(Flatten())\n",
    "model_CNN.add(Dense(16, activation='relu'))\n",
    "model_CNN.add(Dropout(dr))\n",
    "model_CNN.add(Dense(len(classes), activation='softmax'))\n",
    "model_CNN.add(Reshape([len(classes)]))\n",
    "model_CNN.compile(loss='categorical_crossentropy', optimizer='adam', metrics=['accuracy'])\n",
    "model_CNN.summary()\n",
    "\n"
   ]
  },
  {
   "cell_type": "code",
   "execution_count": 33,
   "id": "cb297abb",
   "metadata": {},
   "outputs": [
    {
     "name": "stdout",
     "output_type": "stream",
     "text": [
      "Epoch 1/100\n",
      "2188/2188 [==============================] - 14s 6ms/step - loss: 0.9233 - accuracy: 0.5340 - val_loss: 0.4699 - val_accuracy: 0.8050\n",
      "Epoch 2/100\n",
      "2188/2188 [==============================] - 13s 6ms/step - loss: 0.5963 - accuracy: 0.7067 - val_loss: 0.3508 - val_accuracy: 0.8033\n",
      "Epoch 3/100\n",
      "2188/2188 [==============================] - 13s 6ms/step - loss: 0.3810 - accuracy: 0.8237 - val_loss: 0.1121 - val_accuracy: 0.9859\n",
      "Epoch 4/100\n",
      "2188/2188 [==============================] - 13s 6ms/step - loss: 0.2262 - accuracy: 0.9009 - val_loss: 0.0372 - val_accuracy: 1.0000\n",
      "Epoch 5/100\n",
      "2188/2188 [==============================] - 13s 6ms/step - loss: 0.1768 - accuracy: 0.9134 - val_loss: 0.0329 - val_accuracy: 0.9997\n",
      "Epoch 6/100\n",
      "2188/2188 [==============================] - 13s 6ms/step - loss: 0.1677 - accuracy: 0.9094 - val_loss: 0.0415 - val_accuracy: 0.9999\n",
      "Epoch 7/100\n",
      "2188/2188 [==============================] - 13s 6ms/step - loss: 0.1616 - accuracy: 0.9212 - val_loss: 0.0321 - val_accuracy: 0.9998\n",
      "Epoch 8/100\n",
      "2188/2188 [==============================] - 13s 6ms/step - loss: 0.1586 - accuracy: 0.9333 - val_loss: 0.0290 - val_accuracy: 0.9993\n",
      "Epoch 9/100\n",
      "2188/2188 [==============================] - 13s 6ms/step - loss: 0.1616 - accuracy: 0.9309 - val_loss: 0.0507 - val_accuracy: 0.9998\n",
      "Epoch 10/100\n",
      "2188/2188 [==============================] - 13s 6ms/step - loss: 0.1597 - accuracy: 0.9324 - val_loss: 0.0428 - val_accuracy: 0.9991\n",
      "Epoch 11/100\n",
      "2188/2188 [==============================] - 13s 6ms/step - loss: 0.1597 - accuracy: 0.9322 - val_loss: 0.0660 - val_accuracy: 0.9940\n",
      "Epoch 12/100\n",
      "2188/2188 [==============================] - 13s 6ms/step - loss: 0.1584 - accuracy: 0.9324 - val_loss: 0.0721 - val_accuracy: 0.9927\n",
      "Epoch 13/100\n",
      "2188/2188 [==============================] - 13s 6ms/step - loss: 0.1573 - accuracy: 0.9327 - val_loss: 0.0593 - val_accuracy: 0.9876\n"
     ]
    }
   ],
   "source": [
    "filepath = 'weight_3layers_CNN.wts.h5'\n",
    "history_CNN = model_CNN.fit(X_train,\n",
    "    y_train,\n",
    "    batch_size=batch_size,\n",
    "    epochs =nb_epoch,\n",
    "    verbose=1,\n",
    "    validation_data=(X_val, y_val),\n",
    "    callbacks = [\n",
    "        keras.callbacks.ModelCheckpoint(filepath, monitor='val_loss', verbose=0, save_best_only=True, mode='auto'),\n",
    "        keras.callbacks.EarlyStopping(monitor='val_loss', patience=5, verbose=0, mode='auto')\n",
    "    ])\n"
   ]
  },
  {
   "cell_type": "code",
   "execution_count": 34,
   "id": "ff55d704",
   "metadata": {},
   "outputs": [
    {
     "name": "stdout",
     "output_type": "stream",
     "text": [
      "Test Loss and Accuracy:  [0.028890229761600494, 0.9993333220481873]\n"
     ]
    }
   ],
   "source": [
    "# Re-load the best weights once training is finished\n",
    "model_CNN.load_weights('weight_3layers_CNN.wts.h5')\n",
    "\n",
    "\n",
    "# Show simple version of performance\n",
    "score = model_CNN.evaluate(X_test, y_test, verbose=0, batch_size=batch_size)\n",
    "print(\"Test Loss and Accuracy: \",score)"
   ]
  },
  {
   "cell_type": "code",
   "execution_count": 35,
   "id": "80b35ec5",
   "metadata": {},
   "outputs": [],
   "source": [
    "def plot_confusion_matrix(cm, title='Confusion matrix', cmap=plt.cm.Blues, labels=[]):\n",
    "    plt.imshow(cm, interpolation='nearest', cmap=cmap)\n",
    "    plt.title(title)\n",
    "    plt.colorbar()\n",
    "    tick_marks = np.arange(len(labels))\n",
    "    plt.xticks(tick_marks, labels, rotation=45)\n",
    "    plt.yticks(tick_marks, labels)\n",
    "    plt.tight_layout()\n",
    "    plt.ylabel('True label')\n",
    "    plt.xlabel('Predicted label')\n",
    "    plt.show()"
   ]
  },
  {
   "cell_type": "code",
   "execution_count": 36,
   "id": "440c0ae6",
   "metadata": {},
   "outputs": [
    {
     "name": "stdout",
     "output_type": "stream",
     "text": [
      "469/469 [==============================] - 1s 2ms/step\n"
     ]
    },
    {
     "data": {
      "image/png": "[encoded data removed]",
      "text/plain": [
       "<Figure size 432x288 with 2 Axes>"
      ]
     },
     "metadata": {
      "needs_background": "light"
     },
     "output_type": "display_data"
    }
   ],
   "source": [
    "test_Y_hat_CNN = model_CNN.predict(X_test, batch_size=batch_size)\n",
    "conf = np.zeros([len(classes),len(classes)])\n",
    "confnorm = np.zeros([len(classes),len(classes)])\n",
    "for i in range(0,X_test.shape[0]):\n",
    "    j = list(y_test[i,:]).index(1)\n",
    "    k = int(np.argmax(test_Y_hat_CNN[i,:]))\n",
    "    conf[j,k] = conf[j,k] + 1\n",
    "\n",
    "for i in range(0,len(classes)):\n",
    "    confnorm[i,:] = conf[i,:] / np.sum(conf[i,:])\n",
    "plot_confusion_matrix(confnorm, labels=classes)"
   ]
  },
  {
   "cell_type": "code",
   "execution_count": 37,
   "id": "d509376e",
   "metadata": {},
   "outputs": [],
   "source": [
    "#CNN-LSTM model\n",
    "layer_in = keras.layers.Input(shape=(2,256))\n",
    "layer_reshape = keras.layers.Reshape((256, 2))(layer_in)\n",
    "layer = keras.layers.Conv1D(filters=16, kernel_size=8, activation='relu')(layer_reshape)\n",
    "layer = keras.layers.MaxPool1D(pool_size=2)(layer)\n",
    "layer = keras.layers.LSTM(16, return_sequences=True,)(layer)\n",
    "layer = keras.layers.Dropout(0.4)(layer)\n",
    "layer = keras.layers.Flatten()(layer)\n",
    "layer_out = keras.layers.Dense(len(mods), activation='softmax')(layer)\n",
    "\n",
    "model_cldnn = keras.models.Model(layer_in, layer_out)\n",
    "\n",
    "optimizer = keras.optimizers.Adam(learning_rate=0.001)\n",
    "\n",
    "callbacks = [\n",
    "    keras.callbacks.ModelCheckpoint(\n",
    "        \"cldnn_model.h5\", save_best_only=True, monitor=\"val_loss\"),\n",
    "    keras.callbacks.ReduceLROnPlateau(\n",
    "        monitor=\"val_loss\", factor=0.4, patience=5, min_lr=0.00001),\n",
    "    keras.callbacks.EarlyStopping(monitor=\"val_loss\", patience=8, verbose=1)]\n",
    "\n",
    "model_cldnn.compile(loss='categorical_crossentropy', optimizer=optimizer, metrics=['accuracy'])"
   ]
  },
  {
   "cell_type": "code",
   "execution_count": 38,
   "id": "2b60062b",
   "metadata": {},
   "outputs": [
    {
     "name": "stdout",
     "output_type": "stream",
     "text": [
      "Model: \"model\"\n",
      "_________________________________________________________________\n",
      " Layer (type)                Output Shape              Param #   \n",
      "=================================================================\n",
      " input_1 (InputLayer)        [(None, 2, 256)]          0         \n",
      "                                                                 \n",
      " reshape_2 (Reshape)         (None, 256, 2)            0         \n",
      "                                                                 \n",
      " conv1d (Conv1D)             (None, 249, 16)           272       \n",
      "                                                                 \n",
      " max_pooling1d (MaxPooling1D  (None, 124, 16)          0         \n",
      " )                                                               \n",
      "                                                                 \n",
      " lstm (LSTM)                 (None, 124, 16)           2112      \n",
      "                                                                 \n",
      " dropout_3 (Dropout)         (None, 124, 16)           0         \n",
      "                                                                 \n",
      " flatten_1 (Flatten)         (None, 1984)              0         \n",
      "                                                                 \n",
      " dense_2 (Dense)             (None, 5)                 9925      \n",
      "                                                                 \n",
      "=================================================================\n",
      "Total params: 12,309\n",
      "Trainable params: 12,309\n",
      "Non-trainable params: 0\n",
      "_________________________________________________________________\n"
     ]
    }
   ],
   "source": [
    "model_cldnn.summary()"
   ]
  },
  {
   "cell_type": "code",
   "execution_count": 39,
   "id": "30fa5b28",
   "metadata": {},
   "outputs": [
    {
     "name": "stdout",
     "output_type": "stream",
     "text": [
      "Epoch 1/100\n",
      "2188/2188 [==============================] - 84s 37ms/step - loss: 0.0222 - accuracy: 0.9921 - val_loss: 1.1467e-05 - val_accuracy: 1.0000 - lr: 0.0010\n",
      "Epoch 2/100\n",
      "2188/2188 [==============================] - 81s 37ms/step - loss: 2.0573e-04 - accuracy: 1.0000 - val_loss: 8.8193e-06 - val_accuracy: 1.0000 - lr: 0.0010\n",
      "Epoch 3/100\n",
      "2188/2188 [==============================] - 80s 37ms/step - loss: 1.7305e-05 - accuracy: 1.0000 - val_loss: 3.4857e-05 - val_accuracy: 1.0000 - lr: 0.0010\n",
      "Epoch 4/100\n",
      "2188/2188 [==============================] - 81s 37ms/step - loss: 7.1978e-04 - accuracy: 0.9998 - val_loss: 2.6510e-06 - val_accuracy: 1.0000 - lr: 0.0010\n",
      "Epoch 5/100\n",
      "2188/2188 [==============================] - 80s 37ms/step - loss: 1.7696e-04 - accuracy: 1.0000 - val_loss: 2.8488e-07 - val_accuracy: 1.0000 - lr: 0.0010\n",
      "Epoch 6/100\n",
      "2188/2188 [==============================] - 78s 36ms/step - loss: 8.2992e-07 - accuracy: 1.0000 - val_loss: 7.5036e-08 - val_accuracy: 1.0000 - lr: 0.0010\n",
      "Epoch 7/100\n",
      "2188/2188 [==============================] - 78s 36ms/step - loss: 5.0838e-07 - accuracy: 1.0000 - val_loss: 3.4356e-08 - val_accuracy: 1.0000 - lr: 4.0000e-04\n",
      "Epoch 8/100\n",
      "2188/2188 [==============================] - 78s 36ms/step - loss: 7.8641e-07 - accuracy: 1.0000 - val_loss: 2.3079e-08 - val_accuracy: 1.0000 - lr: 4.0000e-04\n",
      "Epoch 9/100\n",
      "2188/2188 [==============================] - 77s 35ms/step - loss: 8.4187e-08 - accuracy: 1.0000 - val_loss: 3.2345e-09 - val_accuracy: 1.0000 - lr: 4.0000e-04\n",
      "Epoch 10/100\n",
      "2188/2188 [==============================] - 82s 38ms/step - loss: 1.9630e-05 - accuracy: 1.0000 - val_loss: 1.2740e-07 - val_accuracy: 1.0000 - lr: 4.0000e-04\n",
      "Epoch 11/100\n",
      "2188/2188 [==============================] - 81s 37ms/step - loss: 3.6171e-07 - accuracy: 1.0000 - val_loss: 8.6228e-09 - val_accuracy: 1.0000 - lr: 4.0000e-04\n",
      "Epoch 12/100\n",
      "2188/2188 [==============================] - 81s 37ms/step - loss: 7.5650e-08 - accuracy: 1.0000 - val_loss: 5.9605e-09 - val_accuracy: 1.0000 - lr: 1.6000e-04\n",
      "Epoch 13/100\n",
      "2188/2188 [==============================] - 81s 37ms/step - loss: 6.5318e-08 - accuracy: 1.0000 - val_loss: 3.6716e-09 - val_accuracy: 1.0000 - lr: 1.6000e-04\n",
      "Epoch 14/100\n",
      "2188/2188 [==============================] - 85s 39ms/step - loss: 5.1585e-08 - accuracy: 1.0000 - val_loss: 2.3365e-09 - val_accuracy: 1.0000 - lr: 1.6000e-04\n",
      "Epoch 15/100\n",
      "2188/2188 [==============================] - 83s 38ms/step - loss: 3.2311e-08 - accuracy: 1.0000 - val_loss: 1.1921e-09 - val_accuracy: 1.0000 - lr: 1.6000e-04\n",
      "Epoch 16/100\n",
      "2188/2188 [==============================] - 81s 37ms/step - loss: 9.6374e-08 - accuracy: 1.0000 - val_loss: 1.3669e-09 - val_accuracy: 1.0000 - lr: 1.6000e-04\n",
      "Epoch 17/100\n",
      "2188/2188 [==============================] - 81s 37ms/step - loss: 9.1687e-09 - accuracy: 1.0000 - val_loss: 6.5168e-10 - val_accuracy: 1.0000 - lr: 6.4000e-05\n",
      "Epoch 18/100\n",
      "2188/2188 [==============================] - 81s 37ms/step - loss: 6.3451e-09 - accuracy: 1.0000 - val_loss: 1.7881e-09 - val_accuracy: 1.0000 - lr: 6.4000e-05\n",
      "Epoch 19/100\n",
      "2188/2188 [==============================] - 81s 37ms/step - loss: 7.8046e-09 - accuracy: 1.0000 - val_loss: 1.6689e-10 - val_accuracy: 1.0000 - lr: 6.4000e-05\n",
      "Epoch 20/100\n",
      "2188/2188 [==============================] - 81s 37ms/step - loss: 1.2173e-08 - accuracy: 1.0000 - val_loss: 1.2716e-10 - val_accuracy: 1.0000 - lr: 6.4000e-05\n",
      "Epoch 21/100\n",
      "2188/2188 [==============================] - 82s 37ms/step - loss: 1.6451e-09 - accuracy: 1.0000 - val_loss: 6.3578e-11 - val_accuracy: 1.0000 - lr: 6.4000e-05\n",
      "Epoch 22/100\n",
      "2188/2188 [==============================] - 80s 37ms/step - loss: 2.3041e-09 - accuracy: 1.0000 - val_loss: 3.9736e-11 - val_accuracy: 1.0000 - lr: 2.5600e-05\n",
      "Epoch 23/100\n",
      "2188/2188 [==============================] - 81s 37ms/step - loss: 1.7762e-09 - accuracy: 1.0000 - val_loss: 2.3842e-11 - val_accuracy: 1.0000 - lr: 2.5600e-05\n",
      "Epoch 24/100\n",
      "2188/2188 [==============================] - 81s 37ms/step - loss: 7.6634e-10 - accuracy: 1.0000 - val_loss: 3.1789e-11 - val_accuracy: 1.0000 - lr: 2.5600e-05\n",
      "Epoch 25/100\n",
      "2188/2188 [==============================] - 81s 37ms/step - loss: 2.2291e-09 - accuracy: 1.0000 - val_loss: 4.7684e-11 - val_accuracy: 1.0000 - lr: 2.5600e-05\n",
      "Epoch 26/100\n",
      "2188/2188 [==============================] - 83s 38ms/step - loss: 1.6025e-09 - accuracy: 1.0000 - val_loss: 7.9473e-12 - val_accuracy: 1.0000 - lr: 2.5600e-05\n",
      "Epoch 27/100\n",
      "2188/2188 [==============================] - 82s 38ms/step - loss: 8.1232e-10 - accuracy: 1.0000 - val_loss: 7.9473e-12 - val_accuracy: 1.0000 - lr: 1.0240e-05\n",
      "Epoch 28/100\n",
      "2188/2188 [==============================] - 83s 38ms/step - loss: 3.6785e-10 - accuracy: 1.0000 - val_loss: 7.9473e-12 - val_accuracy: 1.0000 - lr: 1.0240e-05\n",
      "Epoch 29/100\n",
      "2188/2188 [==============================] - 81s 37ms/step - loss: 2.9632e-10 - accuracy: 1.0000 - val_loss: 7.9473e-12 - val_accuracy: 1.0000 - lr: 1.0240e-05\n",
      "Epoch 30/100\n",
      "2188/2188 [==============================] - 81s 37ms/step - loss: 1.1444e-09 - accuracy: 1.0000 - val_loss: 7.9473e-12 - val_accuracy: 1.0000 - lr: 1.0240e-05\n",
      "Epoch 31/100\n",
      "2188/2188 [==============================] - 80s 37ms/step - loss: 9.2982e-10 - accuracy: 1.0000 - val_loss: 7.9473e-12 - val_accuracy: 1.0000 - lr: 1.0240e-05\n",
      "Epoch 32/100\n",
      "2188/2188 [==============================] - 81s 37ms/step - loss: 6.5906e-10 - accuracy: 1.0000 - val_loss: 7.9473e-12 - val_accuracy: 1.0000 - lr: 1.0000e-05\n",
      "Epoch 33/100\n",
      "2188/2188 [==============================] - 80s 37ms/step - loss: 5.2793e-10 - accuracy: 1.0000 - val_loss: 7.9473e-12 - val_accuracy: 1.0000 - lr: 1.0000e-05\n",
      "Epoch 34/100\n",
      "2188/2188 [==============================] - 81s 37ms/step - loss: 3.3700e-09 - accuracy: 1.0000 - val_loss: 7.9473e-12 - val_accuracy: 1.0000 - lr: 1.0000e-05\n",
      "Epoch 34: early stopping\n"
     ]
    }
   ],
   "source": [
    "tf.keras.backend.clear_session()\n",
    "filepath = 'cldnn_model.h5'\n",
    "history_cldnn = model_cldnn.fit(X_train,\n",
    "    y_train,\n",
    "    batch_size=batch_size,\n",
    "    epochs =nb_epoch,\n",
    "    verbose=1,\n",
    "    validation_data=(X_val, y_val),\n",
    "    callbacks = callbacks)\n"
   ]
  },
  {
   "cell_type": "code",
   "execution_count": 40,
   "id": "ead8cc7f",
   "metadata": {},
   "outputs": [
    {
     "name": "stdout",
     "output_type": "stream",
     "text": [
      "Test Loss and Accuracy:  [2.4636578888070915e-10, 1.0]\n"
     ]
    }
   ],
   "source": [
    "# Re-load the best weights once training is finished\n",
    "model_cldnn.load_weights('cldnn_model.h5')\n",
    "\n",
    "\n",
    "# Show simple version of performance\n",
    "score = model_cldnn.evaluate(X_test, y_test, verbose=0, batch_size=batch_size)\n",
    "print(\"Test Loss and Accuracy: \",score)"
   ]
  },
  {
   "cell_type": "code",
   "execution_count": 41,
   "id": "f950c853",
   "metadata": {},
   "outputs": [
    {
     "name": "stdout",
     "output_type": "stream",
     "text": [
      "469/469 [==============================] - 5s 10ms/step\n"
     ]
    },
    {
     "data": {
      "image/png": "[encoded data removed]",
      "text/plain": [
       "<Figure size 432x288 with 2 Axes>"
      ]
     },
     "metadata": {
      "needs_background": "light"
     },
     "output_type": "display_data"
    }
   ],
   "source": [
    "test_Y_hat_cldnn = model_cldnn.predict(X_test, batch_size=batch_size)\n",
    "conf = np.zeros([len(classes),len(classes)])\n",
    "confnorm = np.zeros([len(classes),len(classes)])\n",
    "for i in range(0,X_test.shape[0]):\n",
    "    j = list(y_test[i,:]).index(1)\n",
    "    k = int(np.argmax(test_Y_hat_cldnn[i,:]))\n",
    "    conf[j,k] = conf[j,k] + 1\n",
    "\n",
    "for i in range(0,len(classes)):\n",
    "    confnorm[i,:] = conf[i,:] / np.sum(conf[i,:])\n",
    "plot_confusion_matrix(confnorm, labels=classes)"
   ]
  },
  {
   "cell_type": "code",
   "execution_count": 42,
   "id": "8d963f9e",
   "metadata": {},
   "outputs": [],
   "source": [
    "layer_in = keras.layers.Input(shape=(2,256))\n",
    "layer_reshape = keras.layers.Reshape((256, 2))(layer_in)\n",
    "layer = keras.layers.Conv1D(filters=16, kernel_size=(4), activation='relu')(layer_reshape)\n",
    "layer = keras.layers.MaxPool1D(pool_size=(2))(layer)\n",
    "layer = keras.layers.GRU(16, return_sequences=True)(layer)\n",
    "layer = keras.layers.GaussianDropout(0.4)(layer)\n",
    "layer = keras.layers.Flatten()(layer)\n",
    "layer_out = keras.layers.Dense(len(mods), activation='softmax')(layer)\n",
    "\n",
    "model_CGDNN = keras.models.Model(layer_in, layer_out)\n",
    "\n",
    "optimizer = keras.optimizers.Adam(learning_rate=0.002)\n",
    "\n",
    "callbacks = [\n",
    "    keras.callbacks.ModelCheckpoint(\n",
    "        \"cgdnn_model.h5\", save_best_only=True, monitor=\"val_loss\"),\n",
    "    keras.callbacks.ReduceLROnPlateau(\n",
    "        monitor=\"val_loss\", factor=0.4, patience=4, min_lr=0.00001),\n",
    "    keras.callbacks.EarlyStopping(monitor=\"val_loss\", patience=10, verbose=1)]\n",
    "\n",
    "model_CGDNN.compile(loss='categorical_crossentropy', optimizer=optimizer, metrics=['accuracy'])"
   ]
  },
  {
   "cell_type": "code",
   "execution_count": 43,
   "id": "79a86e2c",
   "metadata": {},
   "outputs": [
    {
     "name": "stdout",
     "output_type": "stream",
     "text": [
      "Model: \"model\"\n",
      "_________________________________________________________________\n",
      " Layer (type)                Output Shape              Param #   \n",
      "=================================================================\n",
      " input_1 (InputLayer)        [(None, 2, 256)]          0         \n",
      "                                                                 \n",
      " reshape (Reshape)           (None, 256, 2)            0         \n",
      "                                                                 \n",
      " conv1d (Conv1D)             (None, 253, 16)           144       \n",
      "                                                                 \n",
      " max_pooling1d (MaxPooling1D  (None, 126, 16)          0         \n",
      " )                                                               \n",
      "                                                                 \n",
      " gru (GRU)                   (None, 126, 16)           1632      \n",
      "                                                                 \n",
      " gaussian_dropout (GaussianD  (None, 126, 16)          0         \n",
      " ropout)                                                         \n",
      "                                                                 \n",
      " flatten (Flatten)           (None, 2016)              0         \n",
      "                                                                 \n",
      " dense (Dense)               (None, 5)                 10085     \n",
      "                                                                 \n",
      "=================================================================\n",
      "Total params: 11,861\n",
      "Trainable params: 11,861\n",
      "Non-trainable params: 0\n",
      "_________________________________________________________________\n"
     ]
    }
   ],
   "source": [
    "model_CGDNN.summary()"
   ]
  },
  {
   "cell_type": "code",
   "execution_count": 44,
   "id": "da0d2314",
   "metadata": {},
   "outputs": [
    {
     "name": "stdout",
     "output_type": "stream",
     "text": [
      "Epoch 1/100\n",
      "2188/2188 [==============================] - 95s 42ms/step - loss: 0.0187 - accuracy: 0.9934 - val_loss: 1.1104e-05 - val_accuracy: 1.0000 - lr: 0.0020\n",
      "Epoch 2/100\n",
      "2188/2188 [==============================] - 89s 41ms/step - loss: 1.0004e-05 - accuracy: 1.0000 - val_loss: 2.5106e-06 - val_accuracy: 1.0000 - lr: 0.0020\n",
      "Epoch 3/100\n",
      "2188/2188 [==============================] - 90s 41ms/step - loss: 0.0057 - accuracy: 0.9990 - val_loss: 7.4921e-06 - val_accuracy: 1.0000 - lr: 0.0020\n",
      "Epoch 4/100\n",
      "2188/2188 [==============================] - 85s 39ms/step - loss: 1.2818e-05 - accuracy: 1.0000 - val_loss: 1.6122e-06 - val_accuracy: 1.0000 - lr: 0.0020\n",
      "Epoch 5/100\n",
      "2188/2188 [==============================] - 85s 39ms/step - loss: 3.3551e-06 - accuracy: 1.0000 - val_loss: 7.1902e-07 - val_accuracy: 1.0000 - lr: 0.0020\n",
      "Epoch 6/100\n",
      "2188/2188 [==============================] - 86s 39ms/step - loss: 1.8199e-06 - accuracy: 1.0000 - val_loss: 4.5907e-07 - val_accuracy: 1.0000 - lr: 8.0000e-04\n",
      "Epoch 7/100\n",
      "2188/2188 [==============================] - 85s 39ms/step - loss: 1.2168e-06 - accuracy: 1.0000 - val_loss: 2.9590e-07 - val_accuracy: 1.0000 - lr: 8.0000e-04\n",
      "Epoch 8/100\n",
      "2188/2188 [==============================] - 158s 72ms/step - loss: 4.8701e-07 - accuracy: 1.0000 - val_loss: 6.9744e-08 - val_accuracy: 1.0000 - lr: 8.0000e-04\n",
      "Epoch 9/100\n",
      "2188/2188 [==============================] - 186s 85ms/step - loss: 1.8076e-07 - accuracy: 1.0000 - val_loss: 2.3849e-08 - val_accuracy: 1.0000 - lr: 8.0000e-04\n",
      "Epoch 10/100\n",
      "2188/2188 [==============================] - 187s 85ms/step - loss: 8.7494e-08 - accuracy: 1.0000 - val_loss: 3.3290e-08 - val_accuracy: 1.0000 - lr: 3.2000e-04\n",
      "Epoch 11/100\n",
      "2188/2188 [==============================] - 185s 85ms/step - loss: 5.7878e-07 - accuracy: 1.0000 - val_loss: 4.5617e-09 - val_accuracy: 1.0000 - lr: 3.2000e-04\n",
      "Epoch 12/100\n",
      "2188/2188 [==============================] - 187s 85ms/step - loss: 1.6483e-08 - accuracy: 1.0000 - val_loss: 3.4332e-09 - val_accuracy: 1.0000 - lr: 3.2000e-04\n",
      "Epoch 13/100\n",
      "2188/2188 [==============================] - 187s 86ms/step - loss: 7.1559e-09 - accuracy: 1.0000 - val_loss: 2.5590e-09 - val_accuracy: 1.0000 - lr: 3.2000e-04\n",
      "Epoch 14/100\n",
      "2188/2188 [==============================] - 187s 85ms/step - loss: 1.0263e-08 - accuracy: 1.0000 - val_loss: 7.4942e-09 - val_accuracy: 1.0000 - lr: 1.2800e-04\n",
      "Epoch 15/100\n",
      "2188/2188 [==============================] - 185s 85ms/step - loss: 2.5970e-08 - accuracy: 1.0000 - val_loss: 1.2239e-09 - val_accuracy: 1.0000 - lr: 1.2800e-04\n",
      "Epoch 16/100\n",
      "2188/2188 [==============================] - 187s 86ms/step - loss: 2.2718e-09 - accuracy: 1.0000 - val_loss: 9.4573e-10 - val_accuracy: 1.0000 - lr: 1.2800e-04\n",
      "Epoch 17/100\n",
      "2188/2188 [==============================] - 186s 85ms/step - loss: 2.2667e-09 - accuracy: 1.0000 - val_loss: 8.4241e-10 - val_accuracy: 1.0000 - lr: 1.2800e-04\n",
      "Epoch 18/100\n",
      "2188/2188 [==============================] - 649s 297ms/step - loss: 1.1700e-09 - accuracy: 1.0000 - val_loss: 5.8810e-10 - val_accuracy: 1.0000 - lr: 5.1200e-05\n",
      "Epoch 19/100\n",
      "2188/2188 [==============================] - 73s 33ms/step - loss: 1.1580e-09 - accuracy: 1.0000 - val_loss: 4.9273e-10 - val_accuracy: 1.0000 - lr: 5.1200e-05\n",
      "Epoch 20/100\n",
      "2188/2188 [==============================] - 85s 39ms/step - loss: 1.1086e-09 - accuracy: 1.0000 - val_loss: 5.0863e-10 - val_accuracy: 1.0000 - lr: 5.1200e-05\n",
      "Epoch 21/100\n",
      "2188/2188 [==============================] - 86s 39ms/step - loss: 1.4356e-09 - accuracy: 1.0000 - val_loss: 4.0531e-10 - val_accuracy: 1.0000 - lr: 5.1200e-05\n",
      "Epoch 22/100\n",
      "2188/2188 [==============================] - 87s 40ms/step - loss: 7.7486e-10 - accuracy: 1.0000 - val_loss: 2.8610e-10 - val_accuracy: 1.0000 - lr: 2.0480e-05\n",
      "Epoch 23/100\n",
      "2188/2188 [==============================] - 87s 40ms/step - loss: 3.4670e-09 - accuracy: 1.0000 - val_loss: 2.9405e-10 - val_accuracy: 1.0000 - lr: 2.0480e-05\n",
      "Epoch 24/100\n",
      "2188/2188 [==============================] - 87s 40ms/step - loss: 1.1325e-09 - accuracy: 1.0000 - val_loss: 2.3047e-10 - val_accuracy: 1.0000 - lr: 2.0480e-05\n",
      "Epoch 25/100\n",
      "2188/2188 [==============================] - 85s 39ms/step - loss: 5.0068e-10 - accuracy: 1.0000 - val_loss: 2.1458e-10 - val_accuracy: 1.0000 - lr: 2.0480e-05\n",
      "Epoch 26/100\n",
      "2188/2188 [==============================] - 85s 39ms/step - loss: 7.0333e-10 - accuracy: 1.0000 - val_loss: 2.2252e-10 - val_accuracy: 1.0000 - lr: 1.0000e-05\n",
      "Epoch 27/100\n",
      "2188/2188 [==============================] - 84s 39ms/step - loss: 1.6297e-09 - accuracy: 1.0000 - val_loss: 2.3047e-10 - val_accuracy: 1.0000 - lr: 1.0000e-05\n",
      "Epoch 28/100\n",
      "2188/2188 [==============================] - 85s 39ms/step - loss: 6.7949e-10 - accuracy: 1.0000 - val_loss: 2.6226e-10 - val_accuracy: 1.0000 - lr: 1.0000e-05\n",
      "Epoch 29/100\n",
      "2188/2188 [==============================] - 85s 39ms/step - loss: 9.9114e-10 - accuracy: 1.0000 - val_loss: 1.9073e-10 - val_accuracy: 1.0000 - lr: 1.0000e-05\n",
      "Epoch 30/100\n",
      "2188/2188 [==============================] - 85s 39ms/step - loss: 7.3058e-10 - accuracy: 1.0000 - val_loss: 2.0663e-10 - val_accuracy: 1.0000 - lr: 1.0000e-05\n",
      "Epoch 31/100\n",
      "2188/2188 [==============================] - 85s 39ms/step - loss: 1.4816e-09 - accuracy: 1.0000 - val_loss: 1.8279e-10 - val_accuracy: 1.0000 - lr: 1.0000e-05\n",
      "Epoch 32/100\n",
      "2188/2188 [==============================] - 86s 39ms/step - loss: 1.7421e-09 - accuracy: 1.0000 - val_loss: 1.8279e-10 - val_accuracy: 1.0000 - lr: 1.0000e-05\n",
      "Epoch 33/100\n",
      "2188/2188 [==============================] - 85s 39ms/step - loss: 4.6492e-10 - accuracy: 1.0000 - val_loss: 1.8279e-10 - val_accuracy: 1.0000 - lr: 1.0000e-05\n",
      "Epoch 34/100\n",
      "2188/2188 [==============================] - 85s 39ms/step - loss: 3.9509e-10 - accuracy: 1.0000 - val_loss: 1.7484e-10 - val_accuracy: 1.0000 - lr: 1.0000e-05\n",
      "Epoch 35/100\n",
      "2188/2188 [==============================] - 86s 39ms/step - loss: 2.4352e-09 - accuracy: 1.0000 - val_loss: 2.0663e-10 - val_accuracy: 1.0000 - lr: 1.0000e-05\n",
      "Epoch 36/100\n",
      "2188/2188 [==============================] - 83s 38ms/step - loss: 1.0848e-09 - accuracy: 1.0000 - val_loss: 1.6689e-10 - val_accuracy: 1.0000 - lr: 1.0000e-05\n",
      "Epoch 37/100\n",
      "2188/2188 [==============================] - 83s 38ms/step - loss: 3.8317e-10 - accuracy: 1.0000 - val_loss: 1.5895e-10 - val_accuracy: 1.0000 - lr: 1.0000e-05\n",
      "Epoch 38/100\n",
      "2188/2188 [==============================] - 83s 38ms/step - loss: 1.4611e-09 - accuracy: 1.0000 - val_loss: 1.6689e-10 - val_accuracy: 1.0000 - lr: 1.0000e-05\n",
      "Epoch 39/100\n",
      "2188/2188 [==============================] - 83s 38ms/step - loss: 6.7949e-10 - accuracy: 1.0000 - val_loss: 1.7484e-10 - val_accuracy: 1.0000 - lr: 1.0000e-05\n",
      "Epoch 40/100\n",
      "2188/2188 [==============================] - 83s 38ms/step - loss: 3.1128e-09 - accuracy: 1.0000 - val_loss: 2.5431e-10 - val_accuracy: 1.0000 - lr: 1.0000e-05\n",
      "Epoch 41/100\n",
      "2188/2188 [==============================] - 83s 38ms/step - loss: 7.9529e-10 - accuracy: 1.0000 - val_loss: 1.8279e-10 - val_accuracy: 1.0000 - lr: 1.0000e-05\n",
      "Epoch 42/100\n",
      "2188/2188 [==============================] - 83s 38ms/step - loss: 1.1103e-09 - accuracy: 1.0000 - val_loss: 1.6689e-10 - val_accuracy: 1.0000 - lr: 1.0000e-05\n",
      "Epoch 43/100\n",
      "2188/2188 [==============================] - 83s 38ms/step - loss: 5.8072e-10 - accuracy: 1.0000 - val_loss: 1.5100e-10 - val_accuracy: 1.0000 - lr: 1.0000e-05\n",
      "Epoch 44/100\n",
      "2188/2188 [==============================] - 83s 38ms/step - loss: 4.7513e-10 - accuracy: 1.0000 - val_loss: 1.5100e-10 - val_accuracy: 1.0000 - lr: 1.0000e-05\n",
      "Epoch 45/100\n",
      "2188/2188 [==============================] - 83s 38ms/step - loss: 9.3834e-10 - accuracy: 1.0000 - val_loss: 1.8279e-10 - val_accuracy: 1.0000 - lr: 1.0000e-05\n",
      "Epoch 46/100\n",
      "2188/2188 [==============================] - 83s 38ms/step - loss: 6.9141e-10 - accuracy: 1.0000 - val_loss: 1.2716e-10 - val_accuracy: 1.0000 - lr: 1.0000e-05\n",
      "Epoch 47/100\n",
      "2188/2188 [==============================] - 83s 38ms/step - loss: 2.5715e-10 - accuracy: 1.0000 - val_loss: 1.3510e-10 - val_accuracy: 1.0000 - lr: 1.0000e-05\n",
      "Epoch 48/100\n"
     ]
    },
    {
     "name": "stdout",
     "output_type": "stream",
     "text": [
      "2188/2188 [==============================] - 83s 38ms/step - loss: 2.7929e-10 - accuracy: 1.0000 - val_loss: 1.2716e-10 - val_accuracy: 1.0000 - lr: 1.0000e-05\n",
      "Epoch 49/100\n",
      "2188/2188 [==============================] - 83s 38ms/step - loss: 5.4155e-10 - accuracy: 1.0000 - val_loss: 1.1921e-10 - val_accuracy: 1.0000 - lr: 1.0000e-05\n",
      "Epoch 50/100\n",
      "2188/2188 [==============================] - 83s 38ms/step - loss: 5.2111e-10 - accuracy: 1.0000 - val_loss: 1.3510e-10 - val_accuracy: 1.0000 - lr: 1.0000e-05\n",
      "Epoch 51/100\n",
      "2188/2188 [==============================] - 83s 38ms/step - loss: 4.5129e-10 - accuracy: 1.0000 - val_loss: 1.3510e-10 - val_accuracy: 1.0000 - lr: 1.0000e-05\n",
      "Epoch 52/100\n",
      "2188/2188 [==============================] - 83s 38ms/step - loss: 4.8194e-10 - accuracy: 1.0000 - val_loss: 1.3510e-10 - val_accuracy: 1.0000 - lr: 1.0000e-05\n",
      "Epoch 53/100\n",
      "2188/2188 [==============================] - 83s 38ms/step - loss: 4.7854e-10 - accuracy: 1.0000 - val_loss: 1.3510e-10 - val_accuracy: 1.0000 - lr: 1.0000e-05\n",
      "Epoch 54/100\n",
      "2188/2188 [==============================] - 83s 38ms/step - loss: 5.6880e-10 - accuracy: 1.0000 - val_loss: 1.2716e-10 - val_accuracy: 1.0000 - lr: 1.0000e-05\n",
      "Epoch 55/100\n",
      "2188/2188 [==============================] - 83s 38ms/step - loss: 7.5953e-10 - accuracy: 1.0000 - val_loss: 1.1921e-10 - val_accuracy: 1.0000 - lr: 1.0000e-05\n",
      "Epoch 56/100\n",
      "2188/2188 [==============================] - 83s 38ms/step - loss: 1.0848e-09 - accuracy: 1.0000 - val_loss: 1.1126e-10 - val_accuracy: 1.0000 - lr: 1.0000e-05\n",
      "Epoch 57/100\n",
      "2188/2188 [==============================] - 83s 38ms/step - loss: 4.7343e-10 - accuracy: 1.0000 - val_loss: 1.1126e-10 - val_accuracy: 1.0000 - lr: 1.0000e-05\n",
      "Epoch 58/100\n",
      "2188/2188 [==============================] - 83s 38ms/step - loss: 7.0674e-10 - accuracy: 1.0000 - val_loss: 1.1921e-10 - val_accuracy: 1.0000 - lr: 1.0000e-05\n",
      "Epoch 59/100\n",
      "2188/2188 [==============================] - 83s 38ms/step - loss: 3.4911e-10 - accuracy: 1.0000 - val_loss: 1.1921e-10 - val_accuracy: 1.0000 - lr: 1.0000e-05\n",
      "Epoch 60/100\n",
      "2188/2188 [==============================] - 83s 38ms/step - loss: 4.4278e-10 - accuracy: 1.0000 - val_loss: 1.1126e-10 - val_accuracy: 1.0000 - lr: 1.0000e-05\n",
      "Epoch 61/100\n",
      "2188/2188 [==============================] - 83s 38ms/step - loss: 4.3937e-10 - accuracy: 1.0000 - val_loss: 1.1126e-10 - val_accuracy: 1.0000 - lr: 1.0000e-05\n",
      "Epoch 62/100\n",
      "2188/2188 [==============================] - 89s 40ms/step - loss: 4.8705e-10 - accuracy: 1.0000 - val_loss: 1.0331e-10 - val_accuracy: 1.0000 - lr: 1.0000e-05\n",
      "Epoch 63/100\n",
      "2188/2188 [==============================] - 84s 38ms/step - loss: 3.9680e-10 - accuracy: 1.0000 - val_loss: 1.1921e-10 - val_accuracy: 1.0000 - lr: 1.0000e-05\n",
      "Epoch 64/100\n",
      "2188/2188 [==============================] - 83s 38ms/step - loss: 5.3644e-10 - accuracy: 1.0000 - val_loss: 1.0331e-10 - val_accuracy: 1.0000 - lr: 1.0000e-05\n",
      "Epoch 65/100\n",
      "2188/2188 [==============================] - 84s 38ms/step - loss: 8.8554e-10 - accuracy: 1.0000 - val_loss: 1.1126e-10 - val_accuracy: 1.0000 - lr: 1.0000e-05\n",
      "Epoch 66/100\n",
      "2188/2188 [==============================] - 88s 40ms/step - loss: 5.3644e-10 - accuracy: 1.0000 - val_loss: 9.5367e-11 - val_accuracy: 1.0000 - lr: 1.0000e-05\n",
      "Epoch 67/100\n",
      "2188/2188 [==============================] - 81s 37ms/step - loss: 4.8705e-10 - accuracy: 1.0000 - val_loss: 1.1126e-10 - val_accuracy: 1.0000 - lr: 1.0000e-05\n",
      "Epoch 68/100\n",
      "2188/2188 [==============================] - 80s 37ms/step - loss: 3.4060e-10 - accuracy: 1.0000 - val_loss: 8.7420e-11 - val_accuracy: 1.0000 - lr: 1.0000e-05\n",
      "Epoch 69/100\n",
      "2188/2188 [==============================] - 80s 36ms/step - loss: 6.8290e-10 - accuracy: 1.0000 - val_loss: 1.0331e-10 - val_accuracy: 1.0000 - lr: 1.0000e-05\n",
      "Epoch 70/100\n",
      "2188/2188 [==============================] - 80s 37ms/step - loss: 5.2282e-10 - accuracy: 1.0000 - val_loss: 1.0331e-10 - val_accuracy: 1.0000 - lr: 1.0000e-05\n",
      "Epoch 71/100\n",
      "2188/2188 [==============================] - 89s 41ms/step - loss: 3.4244e-09 - accuracy: 1.0000 - val_loss: 1.5895e-10 - val_accuracy: 1.0000 - lr: 1.0000e-05\n",
      "Epoch 72/100\n",
      "2188/2188 [==============================] - 80s 37ms/step - loss: 9.2812e-10 - accuracy: 1.0000 - val_loss: 1.1126e-10 - val_accuracy: 1.0000 - lr: 1.0000e-05\n",
      "Epoch 73/100\n",
      "2188/2188 [==============================] - 85s 39ms/step - loss: 2.6737e-10 - accuracy: 1.0000 - val_loss: 9.5367e-11 - val_accuracy: 1.0000 - lr: 1.0000e-05\n",
      "Epoch 74/100\n",
      "2188/2188 [==============================] - 86s 39ms/step - loss: 3.6955e-10 - accuracy: 1.0000 - val_loss: 1.0331e-10 - val_accuracy: 1.0000 - lr: 1.0000e-05\n",
      "Epoch 75/100\n",
      "2188/2188 [==============================] - 86s 39ms/step - loss: 4.5129e-10 - accuracy: 1.0000 - val_loss: 8.7420e-11 - val_accuracy: 1.0000 - lr: 1.0000e-05\n",
      "Epoch 76/100\n",
      "2188/2188 [==============================] - 86s 39ms/step - loss: 3.3379e-10 - accuracy: 1.0000 - val_loss: 9.5367e-11 - val_accuracy: 1.0000 - lr: 1.0000e-05\n",
      "Epoch 77/100\n",
      "2188/2188 [==============================] - 86s 39ms/step - loss: 2.2990e-10 - accuracy: 1.0000 - val_loss: 9.5367e-11 - val_accuracy: 1.0000 - lr: 1.0000e-05\n",
      "Epoch 78/100\n",
      "2188/2188 [==============================] - 86s 39ms/step - loss: 3.7806e-10 - accuracy: 1.0000 - val_loss: 8.7420e-11 - val_accuracy: 1.0000 - lr: 1.0000e-05\n",
      "Epoch 78: early stopping\n"
     ]
    }
   ],
   "source": [
    "tf.keras.backend.clear_session()\n",
    "filepath = 'cgdnn_model.h5'\n",
    "history_CGDNN = model_CGDNN.fit(X_train,\n",
    "    y_train,\n",
    "    batch_size=batch_size,\n",
    "    epochs =nb_epoch,\n",
    "    verbose=1,\n",
    "    validation_data=(X_val, y_val),\n",
    "    callbacks = callbacks)\n"
   ]
  },
  {
   "cell_type": "code",
   "execution_count": 45,
   "id": "b9df2c41",
   "metadata": {},
   "outputs": [
    {
     "name": "stdout",
     "output_type": "stream",
     "text": [
      "Test Loss and Accuracy:  [1.1126198573574442e-10, 1.0]\n"
     ]
    }
   ],
   "source": [
    "# Re-load the best weights once training is finished\n",
    "model_CGDNN.load_weights('cgdnn_model.h5')\n",
    "\n",
    "\n",
    "# Show simple version of performance\n",
    "score = model_CGDNN.evaluate(X_test, y_test, verbose=0, batch_size=batch_size)\n",
    "print(\"Test Loss and Accuracy: \",score)"
   ]
  },
  {
   "cell_type": "code",
   "execution_count": 46,
   "id": "b38192b3",
   "metadata": {},
   "outputs": [
    {
     "name": "stdout",
     "output_type": "stream",
     "text": [
      "469/469 [==============================] - 6s 8ms/step\n"
     ]
    },
    {
     "data": {
      "image/png": "[encoded data removed]",
      "text/plain": [
       "<Figure size 432x288 with 2 Axes>"
      ]
     },
     "metadata": {
      "needs_background": "light"
     },
     "output_type": "display_data"
    }
   ],
   "source": [
    "test_Y_hat_CGDNN = model_CGDNN.predict(X_test, batch_size=batch_size)\n",
    "conf = np.zeros([len(classes),len(classes)])\n",
    "confnorm = np.zeros([len(classes),len(classes)])\n",
    "for i in range(0,X_test.shape[0]):\n",
    "    j = list(y_test[i,:]).index(1)\n",
    "    k = int(np.argmax(test_Y_hat_CGDNN[i,:]))\n",
    "    conf[j,k] = conf[j,k] + 1\n",
    "\n",
    "for i in range(0,len(classes)):\n",
    "    confnorm[i,:] = conf[i,:] / np.sum(conf[i,:])\n",
    "plot_confusion_matrix(confnorm, labels=classes)"
   ]
  },
  {
   "cell_type": "code",
   "execution_count": 47,
   "id": "dbc3b850",
   "metadata": {},
   "outputs": [],
   "source": [
    "def position_encoding_init(n_position, emb_dim):\n",
    "    ''' Init the sinusoid position encoding table '''\n",
    "\n",
    "    # keep dim 0 for padding token position encoding zero vector\n",
    "    position_enc = np.array([\n",
    "        [pos / np.power(10000, 2 * (j // 2) / emb_dim) for j in range(emb_dim)]\n",
    "        if pos != 0 else np.zeros(emb_dim) for pos in range(n_position)])\n",
    "    \n",
    "\n",
    "    position_enc[1:, 0::2] = np.sin(position_enc[1:, 0::2]) # dim 2i\n",
    "    position_enc[1:, 1::2] = np.cos(position_enc[1:, 1::2]) # dim 2i+1\n",
    "    \n",
    "    return position_enc"
   ]
  },
  {
   "cell_type": "code",
   "execution_count": 48,
   "id": "016b7f58",
   "metadata": {},
   "outputs": [],
   "source": [
    "# Transformer Block\n",
    "from keras import layers\n",
    "class TransformerBlock(layers.Layer):\n",
    "    def __init__(self, embed_dim, num_heads, ff_dim, rate=0.1):\n",
    "        super(TransformerBlock, self).__init__()\n",
    "        self.att = layers.MultiHeadAttention(num_heads=num_heads, key_dim=embed_dim)\n",
    "        self.ffn = keras.Sequential(\n",
    "            [layers.Dense(ff_dim, activation=\"relu\"), layers.Dense(embed_dim),]\n",
    "        )\n",
    "        self.layernorm1 = layers.LayerNormalization(epsilon=1e-6)\n",
    "        self.layernorm2 = layers.LayerNormalization(epsilon=1e-6)\n",
    "        self.dropout1 = layers.Dropout(rate)\n",
    "        self.dropout2 = layers.Dropout(rate)\n",
    "\n",
    "    def call(self, inputs, training):\n",
    "        attn_output = self.att(inputs, inputs)\n",
    "        attn_output = self.dropout1(attn_output, training=training)\n",
    "        out1 = self.layernorm1(inputs + attn_output)\n",
    "        ffn_output = self.ffn(out1)\n",
    "        ffn_output = self.dropout2(ffn_output, training=training)\n",
    "        return self.layernorm2(out1 + ffn_output)\n",
    "    \n",
    "    def get_config(self):\n",
    "        config = super().get_config()\n",
    "        return config\n",
    "    \n",
    "    "
   ]
  },
  {
   "cell_type": "code",
   "execution_count": 49,
   "id": "62dab8af",
   "metadata": {},
   "outputs": [],
   "source": [
    "embed_dim = 16  # Embedding size for each token\n",
    "num_heads = 4  # Number of attention heads\n",
    "ff_dim = 16  # Hidden layer size in feed forward network inside transformer\n",
    "\n",
    "inputs = keras.layers.Input(shape=(2,256))\n",
    "reshape = keras.layers.Reshape((256, 2))(inputs)\n",
    "x = keras.layers.Conv1D(filters=embed_dim, kernel_size=8, activation='relu')(reshape)\n",
    "x = keras.layers.MaxPool1D(pool_size=2)(x)\n",
    "x = keras.layers.LSTM(embed_dim, return_sequences=True,)(x)\n",
    "x = keras.layers.Dropout(0.4)(x)\n",
    "\n",
    "pos_emb = position_encoding_init(124,16)\n",
    "x_pos = x+pos_emb\n",
    "\n",
    "transformer_block = TransformerBlock(embed_dim, num_heads, ff_dim)\n",
    "x = transformer_block(x_pos)\n",
    "\n",
    "x = layers.GlobalAveragePooling1D()(x)\n",
    "x = layers.Dropout(0.1)(x)\n",
    "x = layers.Dense(20, activation=\"relu\")(x)\n",
    "x = layers.Dropout(0.1)(x)\n",
    "outputs = layers.Dense(len(mods), activation=\"softmax\")(x)\n",
    "\n",
    "model_MCT = keras.Model(inputs=inputs, outputs=outputs)"
   ]
  },
  {
   "cell_type": "code",
   "execution_count": 50,
   "id": "8cd01625",
   "metadata": {},
   "outputs": [
    {
     "name": "stdout",
     "output_type": "stream",
     "text": [
      "Model: \"model\"\n",
      "_________________________________________________________________\n",
      " Layer (type)                Output Shape              Param #   \n",
      "=================================================================\n",
      " input_1 (InputLayer)        [(None, 2, 256)]          0         \n",
      "                                                                 \n",
      " reshape (Reshape)           (None, 256, 2)            0         \n",
      "                                                                 \n",
      " conv1d (Conv1D)             (None, 249, 16)           272       \n",
      "                                                                 \n",
      " max_pooling1d (MaxPooling1D  (None, 124, 16)          0         \n",
      " )                                                               \n",
      "                                                                 \n",
      " lstm (LSTM)                 (None, 124, 16)           2112      \n",
      "                                                                 \n",
      " dropout (Dropout)           (None, 124, 16)           0         \n",
      "                                                                 \n",
      " tf.__operators__.add (TFOpL  (None, 124, 16)          0         \n",
      " ambda)                                                          \n",
      "                                                                 \n",
      " transformer_block (Transfor  (None, 124, 16)          4912      \n",
      " merBlock)                                                       \n",
      "                                                                 \n",
      " global_average_pooling1d (G  (None, 16)               0         \n",
      " lobalAveragePooling1D)                                          \n",
      "                                                                 \n",
      " dropout_3 (Dropout)         (None, 16)                0         \n",
      "                                                                 \n",
      " dense_2 (Dense)             (None, 20)                340       \n",
      "                                                                 \n",
      " dropout_4 (Dropout)         (None, 20)                0         \n",
      "                                                                 \n",
      " dense_3 (Dense)             (None, 5)                 105       \n",
      "                                                                 \n",
      "=================================================================\n",
      "Total params: 7,741\n",
      "Trainable params: 7,741\n",
      "Non-trainable params: 0\n",
      "_________________________________________________________________\n"
     ]
    }
   ],
   "source": [
    "model_MCT.summary()"
   ]
  },
  {
   "cell_type": "code",
   "execution_count": 51,
   "id": "64aada24",
   "metadata": {},
   "outputs": [],
   "source": [
    "optimizer = keras.optimizers.SGD(learning_rate=0.03)\n",
    "model_MCT.compile(loss='categorical_crossentropy', optimizer=optimizer, metrics=['accuracy'])"
   ]
  },
  {
   "cell_type": "code",
   "execution_count": 52,
   "id": "d15f65b7",
   "metadata": {},
   "outputs": [
    {
     "name": "stdout",
     "output_type": "stream",
     "text": [
      "Epoch 1/100\n",
      "2188/2188 [==============================] - 186s 83ms/step - loss: 0.1762 - accuracy: 0.9321 - val_loss: 5.5946e-04 - val_accuracy: 0.9999\n",
      "Epoch 2/100\n",
      "2188/2188 [==============================] - 182s 83ms/step - loss: 0.0211 - accuracy: 0.9943 - val_loss: 8.4481e-05 - val_accuracy: 1.0000\n",
      "Epoch 3/100\n",
      "2188/2188 [==============================] - 181s 83ms/step - loss: 0.0045 - accuracy: 0.9991 - val_loss: 5.0283e-05 - val_accuracy: 1.0000\n",
      "Epoch 4/100\n",
      "2188/2188 [==============================] - 179s 82ms/step - loss: 0.0033 - accuracy: 0.9991 - val_loss: 5.7863e-06 - val_accuracy: 1.0000\n",
      "Epoch 5/100\n",
      "2188/2188 [==============================] - 179s 82ms/step - loss: 0.0705 - accuracy: 0.9661 - val_loss: 2.0029e-04 - val_accuracy: 1.0000\n",
      "Epoch 6/100\n",
      "2188/2188 [==============================] - 178s 81ms/step - loss: 0.0086 - accuracy: 0.9987 - val_loss: 7.4806e-05 - val_accuracy: 1.0000\n",
      "Epoch 7/100\n",
      "2188/2188 [==============================] - 178s 81ms/step - loss: 0.0027 - accuracy: 0.9994 - val_loss: 2.3508e-05 - val_accuracy: 1.0000\n",
      "Epoch 8/100\n",
      "2188/2188 [==============================] - 180s 82ms/step - loss: 0.0019 - accuracy: 0.9996 - val_loss: 1.1824e-05 - val_accuracy: 1.0000\n",
      "Epoch 9/100\n",
      "2188/2188 [==============================] - 181s 83ms/step - loss: 0.0015 - accuracy: 0.9998 - val_loss: 4.2382e-06 - val_accuracy: 1.0000\n",
      "Epoch 10/100\n",
      "2188/2188 [==============================] - 182s 83ms/step - loss: 0.0013 - accuracy: 0.9998 - val_loss: 2.8110e-06 - val_accuracy: 1.0000\n",
      "Epoch 11/100\n",
      "2188/2188 [==============================] - 180s 82ms/step - loss: 0.0011 - accuracy: 0.9998 - val_loss: 8.3395e-06 - val_accuracy: 1.0000\n",
      "Epoch 12/100\n",
      "2188/2188 [==============================] - 177s 81ms/step - loss: 0.0012 - accuracy: 0.9998 - val_loss: 2.0845e-06 - val_accuracy: 1.0000\n",
      "Epoch 13/100\n",
      "2188/2188 [==============================] - 183s 84ms/step - loss: 0.0013 - accuracy: 0.9998 - val_loss: 9.9653e-07 - val_accuracy: 1.0000\n",
      "Epoch 14/100\n",
      "2188/2188 [==============================] - 185s 84ms/step - loss: 8.7191e-04 - accuracy: 0.9999 - val_loss: 6.2438e-07 - val_accuracy: 1.0000\n",
      "Epoch 15/100\n",
      "2188/2188 [==============================] - 184s 84ms/step - loss: 8.5743e-04 - accuracy: 0.9999 - val_loss: 8.9820e-07 - val_accuracy: 1.0000\n",
      "Epoch 16/100\n",
      "2188/2188 [==============================] - 181s 83ms/step - loss: 8.0931e-04 - accuracy: 0.9999 - val_loss: 3.9675e-07 - val_accuracy: 1.0000\n",
      "Epoch 17/100\n",
      "2188/2188 [==============================] - 181s 83ms/step - loss: 7.7751e-04 - accuracy: 0.9999 - val_loss: 5.5413e-07 - val_accuracy: 1.0000\n",
      "Epoch 18/100\n",
      "2188/2188 [==============================] - 183s 83ms/step - loss: 7.2487e-04 - accuracy: 0.9999 - val_loss: 3.8119e-07 - val_accuracy: 1.0000\n",
      "Epoch 19/100\n",
      "2188/2188 [==============================] - 184s 84ms/step - loss: 6.7637e-04 - accuracy: 0.9999 - val_loss: 1.1688e-06 - val_accuracy: 1.0000\n",
      "Epoch 20/100\n",
      "2188/2188 [==============================] - 181s 83ms/step - loss: 7.6835e-04 - accuracy: 0.9998 - val_loss: 2.3288e-07 - val_accuracy: 1.0000\n",
      "Epoch 21/100\n",
      "2188/2188 [==============================] - 181s 83ms/step - loss: 6.5580e-04 - accuracy: 0.9999 - val_loss: 3.5325e-07 - val_accuracy: 1.0000\n",
      "Epoch 22/100\n",
      "2188/2188 [==============================] - 180s 82ms/step - loss: 6.7139e-04 - accuracy: 0.9999 - val_loss: 1.6000e-07 - val_accuracy: 1.0000\n",
      "Epoch 23/100\n",
      "2188/2188 [==============================] - 181s 83ms/step - loss: 6.8275e-04 - accuracy: 0.9999 - val_loss: 4.5307e-07 - val_accuracy: 1.0000\n",
      "Epoch 24/100\n",
      "2188/2188 [==============================] - 182s 83ms/step - loss: 4.9557e-04 - accuracy: 0.9999 - val_loss: 1.3667e-07 - val_accuracy: 1.0000\n",
      "Epoch 25/100\n",
      "2188/2188 [==============================] - 180s 82ms/step - loss: 6.1877e-04 - accuracy: 0.9998 - val_loss: 1.3543e-07 - val_accuracy: 1.0000\n",
      "Epoch 26/100\n",
      "2188/2188 [==============================] - 181s 83ms/step - loss: 6.0249e-04 - accuracy: 0.9999 - val_loss: 8.2246e-08 - val_accuracy: 1.0000\n",
      "Epoch 27/100\n",
      "2188/2188 [==============================] - 181s 83ms/step - loss: 4.7692e-04 - accuracy: 0.9999 - val_loss: 5.9202e-07 - val_accuracy: 1.0000\n",
      "Epoch 28/100\n",
      "2188/2188 [==============================] - 182s 83ms/step - loss: 5.6324e-04 - accuracy: 0.9998 - val_loss: 1.0300e-07 - val_accuracy: 1.0000\n",
      "Epoch 29/100\n",
      "2188/2188 [==============================] - 184s 84ms/step - loss: 5.3615e-04 - accuracy: 0.9999 - val_loss: 8.1161e-08 - val_accuracy: 1.0000\n",
      "Epoch 30/100\n",
      "2188/2188 [==============================] - 185s 84ms/step - loss: 5.1678e-04 - accuracy: 0.9999 - val_loss: 1.2806e-07 - val_accuracy: 1.0000\n",
      "Epoch 31/100\n",
      "2188/2188 [==============================] - 185s 85ms/step - loss: 0.0376 - accuracy: 0.9936 - val_loss: 1.8225e-05 - val_accuracy: 1.0000\n",
      "Epoch 32/100\n",
      "2188/2188 [==============================] - 160s 73ms/step - loss: 0.0017 - accuracy: 0.9998 - val_loss: 2.3004e-06 - val_accuracy: 1.0000\n",
      "Epoch 33/100\n",
      "2188/2188 [==============================] - 150s 69ms/step - loss: 0.0013 - accuracy: 0.9997 - val_loss: 1.0193e-05 - val_accuracy: 1.0000\n",
      "Epoch 34/100\n",
      "2188/2188 [==============================] - 157s 72ms/step - loss: 0.0010 - accuracy: 0.9998 - val_loss: 1.5970e-06 - val_accuracy: 1.0000\n"
     ]
    }
   ],
   "source": [
    "filepath = 'MCT_model.h5'\n",
    "history_MCT = model_MCT.fit(X_train, y_train, batch_size=32, epochs=100, validation_data= (X_val, y_val), \n",
    "                           callbacks = [\n",
    "        keras.callbacks.ModelCheckpoint(filepath, monitor='val_loss', verbose=0, save_best_only=True, mode='auto'),\n",
    "        keras.callbacks.EarlyStopping(monitor='val_loss', patience=5, verbose=0, mode='auto')\n",
    "    ])"
   ]
  },
  {
   "cell_type": "code",
   "execution_count": 53,
   "id": "fc58c951",
   "metadata": {},
   "outputs": [
    {
     "name": "stdout",
     "output_type": "stream",
     "text": [
      "Test Loss and Accuracy:  [6.357790738320546e-08, 1.0]\n"
     ]
    }
   ],
   "source": [
    "# Re-load the best weights once training is finished\n",
    "model_MCT.load_weights('MCT_model.h5')\n",
    "\n",
    "\n",
    "# Show simple version of performance\n",
    "score = model_MCT.evaluate(X_test, y_test, verbose=0, batch_size=batch_size)\n",
    "print(\"Test Loss and Accuracy: \",score)"
   ]
  },
  {
   "cell_type": "code",
   "execution_count": 54,
   "id": "a1f17095",
   "metadata": {},
   "outputs": [
    {
     "name": "stdout",
     "output_type": "stream",
     "text": [
      "469/469 [==============================] - 13s 26ms/step\n"
     ]
    },
    {
     "data": {
      "image/png": "[encoded data removed]",
      "text/plain": [
       "<Figure size 432x288 with 2 Axes>"
      ]
     },
     "metadata": {
      "needs_background": "light"
     },
     "output_type": "display_data"
    }
   ],
   "source": [
    "test_Y_hat_MCT = model_MCT.predict(X_test, batch_size=batch_size)\n",
    "conf = np.zeros([len(classes),len(classes)])\n",
    "confnorm = np.zeros([len(classes),len(classes)])\n",
    "for i in range(0,X_test.shape[0]):\n",
    "    j = list(y_test[i,:]).index(1)\n",
    "    k = int(np.argmax(test_Y_hat_MCT[i,:]))\n",
    "    conf[j,k] = conf[j,k] + 1\n",
    "\n",
    "for i in range(0,len(classes)):\n",
    "    confnorm[i,:] = conf[i,:] / np.sum(conf[i,:])\n",
    "plot_confusion_matrix(confnorm, labels=classes)"
   ]
  },
  {
   "cell_type": "code",
   "execution_count": 55,
   "id": "4aa7265e",
   "metadata": {},
   "outputs": [
    {
     "data": {
      "image/png": "[encoded data removed]",
      "text/plain": [
       "<Figure size 720x720 with 4 Axes>"
      ]
     },
     "metadata": {
      "needs_background": "light"
     },
     "output_type": "display_data"
    }
   ],
   "source": [
    "import matplotlib.pyplot as plt\n",
    "fig, axs = plt.subplots(2, 2, figsize=(10, 10))\n",
    "fig.suptitle('Learning Curves', fontsize = 14)\n",
    "\n",
    "\n",
    "axs[0, 0].plot(history_CNN.history['loss'], \"o-\")\n",
    "axs[0, 0].plot(history_CNN.history['val_loss'], \"o-\")\n",
    "axs[0, 0].set_title('2D CNN')\n",
    "\n",
    "axs[0, 1].plot(history_cldnn.history['loss'], \"o-\")\n",
    "axs[0, 1].plot(history_cldnn.history['val_loss'], \"o-\")\n",
    "axs[0, 1].set_title('CNN-LSTM')\n",
    "\n",
    "axs[1, 0].plot(history_CGDNN.history['loss'], \"o-\")\n",
    "axs[1, 0].plot(history_CGDNN.history['val_loss'], \"o-\")\n",
    "axs[1, 0].set_title('CNN-GRU')\n",
    "\n",
    "axs[1, 1].plot(history_MCT.history['loss'], \"o-\")\n",
    "axs[1, 1].plot(history_MCT.history['val_loss'], \"o-\")\n",
    "axs[1, 1].set_title('MCTransformer')\n",
    "\n",
    "\n",
    "\n",
    "fig.legend(['train', 'validation'], loc='upper right', prop={'size': 10})\n",
    "plt.show()\n"
   ]
  },
  {
   "cell_type": "code",
   "execution_count": null,
   "id": "9fc07903",
   "metadata": {},
   "outputs": [],
   "source": []
  },
  {
   "cell_type": "code",
   "execution_count": null,
   "id": "f2774378",
   "metadata": {},
   "outputs": [],
   "source": []
  },
  {
   "cell_type": "code",
   "execution_count": null,
   "id": "9328566a",
   "metadata": {},
   "outputs": [],
   "source": []
  },
  {
   "cell_type": "code",
   "execution_count": null,
   "id": "5749589d",
   "metadata": {},
   "outputs": [],
   "source": []
  }
 ],
 "metadata": {
  "kernelspec": {
   "display_name": "Python 3 (ipykernel)",
   "language": "python",
   "name": "python3"
  },
  "language_info": {
   "codemirror_mode": {
    "name": "ipython",
    "version": 3
   },
   "file_extension": ".py",
   "mimetype": "text/x-python",
   "name": "python",
   "nbconvert_exporter": "python",
   "pygments_lexer": "ipython3",
   "version": "3.9.12"
  }
 },
 "nbformat": 4,
 "nbformat_minor": 5
}
